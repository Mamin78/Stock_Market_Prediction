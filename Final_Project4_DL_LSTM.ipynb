{
  "nbformat": 4,
  "nbformat_minor": 0,
  "metadata": {
    "colab": {
      "name": "Final Project4_DL_LSTM",
      "provenance": [],
      "collapsed_sections": []
    },
    "kernelspec": {
      "name": "python3",
      "display_name": "Python 3"
    },
    "language_info": {
      "name": "python"
    },
    "accelerator": "GPU"
  },
  "cells": [
    {
      "cell_type": "code",
      "execution_count": 100,
      "metadata": {
        "id": "kiK3eKY2pvc5"
      },
      "outputs": [],
      "source": [
        "import pandas as pd"
      ]
    },
    {
      "cell_type": "code",
      "source": [
        "data = pd.read_csv('/content/drive/MyDrive/DeeplearningCourse/project-4/GOOG.csv')"
      ],
      "metadata": {
        "id": "YoVwXe1Kp5Iw"
      },
      "execution_count": 101,
      "outputs": []
    },
    {
      "cell_type": "code",
      "source": [
        "data"
      ],
      "metadata": {
        "colab": {
          "base_uri": "https://localhost:8080/",
          "height": 424
        },
        "id": "6YP8-BoXqKg-",
        "outputId": "89b337c5-48a2-4435-8d36-16f34701c321"
      },
      "execution_count": 102,
      "outputs": [
        {
          "output_type": "execute_result",
          "data": {
            "text/plain": [
              "            Date         Open         High          Low        Close  \\\n",
              "0     2013-12-20   542.117981   548.528992   541.968567   548.255005   \n",
              "1     2013-12-23   551.851501   555.816650   550.496582   555.467957   \n",
              "2     2013-12-24   555.403198   555.537720   551.981018   553.844055   \n",
              "3     2013-12-26   554.924988   557.410706   552.274963   556.643555   \n",
              "4     2013-12-27   557.908813   558.048279   554.392029   557.111816   \n",
              "...          ...          ...          ...          ...          ...   \n",
              "2008  2021-12-13  2968.879883  2971.250000  2927.199951  2934.090088   \n",
              "2009  2021-12-14  2895.399902  2908.840088  2844.850098  2899.409912   \n",
              "2010  2021-12-15  2887.320068  2950.344971  2854.110107  2947.370117   \n",
              "2011  2021-12-16  2961.540039  2971.030029  2881.850098  2896.770020   \n",
              "2012  2021-12-17  2854.290039  2889.201904  2835.760010  2856.060059   \n",
              "\n",
              "        Adj Close   Volume  \n",
              "0      548.255005  6547651  \n",
              "1      555.467957  3456106  \n",
              "2      553.844055  1473904  \n",
              "3      556.643555  2685629  \n",
              "4      557.111816  3151167  \n",
              "...           ...      ...  \n",
              "2008  2934.090088  1205200  \n",
              "2009  2899.409912  1238900  \n",
              "2010  2947.370117  1364000  \n",
              "2011  2896.770020  1370000  \n",
              "2012  2856.060059  2162800  \n",
              "\n",
              "[2013 rows x 7 columns]"
            ],
            "text/html": [
              "\n",
              "  <div id=\"df-da3ff65b-0a8b-4fc0-b616-299363205317\">\n",
              "    <div class=\"colab-df-container\">\n",
              "      <div>\n",
              "<style scoped>\n",
              "    .dataframe tbody tr th:only-of-type {\n",
              "        vertical-align: middle;\n",
              "    }\n",
              "\n",
              "    .dataframe tbody tr th {\n",
              "        vertical-align: top;\n",
              "    }\n",
              "\n",
              "    .dataframe thead th {\n",
              "        text-align: right;\n",
              "    }\n",
              "</style>\n",
              "<table border=\"1\" class=\"dataframe\">\n",
              "  <thead>\n",
              "    <tr style=\"text-align: right;\">\n",
              "      <th></th>\n",
              "      <th>Date</th>\n",
              "      <th>Open</th>\n",
              "      <th>High</th>\n",
              "      <th>Low</th>\n",
              "      <th>Close</th>\n",
              "      <th>Adj Close</th>\n",
              "      <th>Volume</th>\n",
              "    </tr>\n",
              "  </thead>\n",
              "  <tbody>\n",
              "    <tr>\n",
              "      <th>0</th>\n",
              "      <td>2013-12-20</td>\n",
              "      <td>542.117981</td>\n",
              "      <td>548.528992</td>\n",
              "      <td>541.968567</td>\n",
              "      <td>548.255005</td>\n",
              "      <td>548.255005</td>\n",
              "      <td>6547651</td>\n",
              "    </tr>\n",
              "    <tr>\n",
              "      <th>1</th>\n",
              "      <td>2013-12-23</td>\n",
              "      <td>551.851501</td>\n",
              "      <td>555.816650</td>\n",
              "      <td>550.496582</td>\n",
              "      <td>555.467957</td>\n",
              "      <td>555.467957</td>\n",
              "      <td>3456106</td>\n",
              "    </tr>\n",
              "    <tr>\n",
              "      <th>2</th>\n",
              "      <td>2013-12-24</td>\n",
              "      <td>555.403198</td>\n",
              "      <td>555.537720</td>\n",
              "      <td>551.981018</td>\n",
              "      <td>553.844055</td>\n",
              "      <td>553.844055</td>\n",
              "      <td>1473904</td>\n",
              "    </tr>\n",
              "    <tr>\n",
              "      <th>3</th>\n",
              "      <td>2013-12-26</td>\n",
              "      <td>554.924988</td>\n",
              "      <td>557.410706</td>\n",
              "      <td>552.274963</td>\n",
              "      <td>556.643555</td>\n",
              "      <td>556.643555</td>\n",
              "      <td>2685629</td>\n",
              "    </tr>\n",
              "    <tr>\n",
              "      <th>4</th>\n",
              "      <td>2013-12-27</td>\n",
              "      <td>557.908813</td>\n",
              "      <td>558.048279</td>\n",
              "      <td>554.392029</td>\n",
              "      <td>557.111816</td>\n",
              "      <td>557.111816</td>\n",
              "      <td>3151167</td>\n",
              "    </tr>\n",
              "    <tr>\n",
              "      <th>...</th>\n",
              "      <td>...</td>\n",
              "      <td>...</td>\n",
              "      <td>...</td>\n",
              "      <td>...</td>\n",
              "      <td>...</td>\n",
              "      <td>...</td>\n",
              "      <td>...</td>\n",
              "    </tr>\n",
              "    <tr>\n",
              "      <th>2008</th>\n",
              "      <td>2021-12-13</td>\n",
              "      <td>2968.879883</td>\n",
              "      <td>2971.250000</td>\n",
              "      <td>2927.199951</td>\n",
              "      <td>2934.090088</td>\n",
              "      <td>2934.090088</td>\n",
              "      <td>1205200</td>\n",
              "    </tr>\n",
              "    <tr>\n",
              "      <th>2009</th>\n",
              "      <td>2021-12-14</td>\n",
              "      <td>2895.399902</td>\n",
              "      <td>2908.840088</td>\n",
              "      <td>2844.850098</td>\n",
              "      <td>2899.409912</td>\n",
              "      <td>2899.409912</td>\n",
              "      <td>1238900</td>\n",
              "    </tr>\n",
              "    <tr>\n",
              "      <th>2010</th>\n",
              "      <td>2021-12-15</td>\n",
              "      <td>2887.320068</td>\n",
              "      <td>2950.344971</td>\n",
              "      <td>2854.110107</td>\n",
              "      <td>2947.370117</td>\n",
              "      <td>2947.370117</td>\n",
              "      <td>1364000</td>\n",
              "    </tr>\n",
              "    <tr>\n",
              "      <th>2011</th>\n",
              "      <td>2021-12-16</td>\n",
              "      <td>2961.540039</td>\n",
              "      <td>2971.030029</td>\n",
              "      <td>2881.850098</td>\n",
              "      <td>2896.770020</td>\n",
              "      <td>2896.770020</td>\n",
              "      <td>1370000</td>\n",
              "    </tr>\n",
              "    <tr>\n",
              "      <th>2012</th>\n",
              "      <td>2021-12-17</td>\n",
              "      <td>2854.290039</td>\n",
              "      <td>2889.201904</td>\n",
              "      <td>2835.760010</td>\n",
              "      <td>2856.060059</td>\n",
              "      <td>2856.060059</td>\n",
              "      <td>2162800</td>\n",
              "    </tr>\n",
              "  </tbody>\n",
              "</table>\n",
              "<p>2013 rows × 7 columns</p>\n",
              "</div>\n",
              "      <button class=\"colab-df-convert\" onclick=\"convertToInteractive('df-da3ff65b-0a8b-4fc0-b616-299363205317')\"\n",
              "              title=\"Convert this dataframe to an interactive table.\"\n",
              "              style=\"display:none;\">\n",
              "        \n",
              "  <svg xmlns=\"http://www.w3.org/2000/svg\" height=\"24px\"viewBox=\"0 0 24 24\"\n",
              "       width=\"24px\">\n",
              "    <path d=\"M0 0h24v24H0V0z\" fill=\"none\"/>\n",
              "    <path d=\"M18.56 5.44l.94 2.06.94-2.06 2.06-.94-2.06-.94-.94-2.06-.94 2.06-2.06.94zm-11 1L8.5 8.5l.94-2.06 2.06-.94-2.06-.94L8.5 2.5l-.94 2.06-2.06.94zm10 10l.94 2.06.94-2.06 2.06-.94-2.06-.94-.94-2.06-.94 2.06-2.06.94z\"/><path d=\"M17.41 7.96l-1.37-1.37c-.4-.4-.92-.59-1.43-.59-.52 0-1.04.2-1.43.59L10.3 9.45l-7.72 7.72c-.78.78-.78 2.05 0 2.83L4 21.41c.39.39.9.59 1.41.59.51 0 1.02-.2 1.41-.59l7.78-7.78 2.81-2.81c.8-.78.8-2.07 0-2.86zM5.41 20L4 18.59l7.72-7.72 1.47 1.35L5.41 20z\"/>\n",
              "  </svg>\n",
              "      </button>\n",
              "      \n",
              "  <style>\n",
              "    .colab-df-container {\n",
              "      display:flex;\n",
              "      flex-wrap:wrap;\n",
              "      gap: 12px;\n",
              "    }\n",
              "\n",
              "    .colab-df-convert {\n",
              "      background-color: #E8F0FE;\n",
              "      border: none;\n",
              "      border-radius: 50%;\n",
              "      cursor: pointer;\n",
              "      display: none;\n",
              "      fill: #1967D2;\n",
              "      height: 32px;\n",
              "      padding: 0 0 0 0;\n",
              "      width: 32px;\n",
              "    }\n",
              "\n",
              "    .colab-df-convert:hover {\n",
              "      background-color: #E2EBFA;\n",
              "      box-shadow: 0px 1px 2px rgba(60, 64, 67, 0.3), 0px 1px 3px 1px rgba(60, 64, 67, 0.15);\n",
              "      fill: #174EA6;\n",
              "    }\n",
              "\n",
              "    [theme=dark] .colab-df-convert {\n",
              "      background-color: #3B4455;\n",
              "      fill: #D2E3FC;\n",
              "    }\n",
              "\n",
              "    [theme=dark] .colab-df-convert:hover {\n",
              "      background-color: #434B5C;\n",
              "      box-shadow: 0px 1px 3px 1px rgba(0, 0, 0, 0.15);\n",
              "      filter: drop-shadow(0px 1px 2px rgba(0, 0, 0, 0.3));\n",
              "      fill: #FFFFFF;\n",
              "    }\n",
              "  </style>\n",
              "\n",
              "      <script>\n",
              "        const buttonEl =\n",
              "          document.querySelector('#df-da3ff65b-0a8b-4fc0-b616-299363205317 button.colab-df-convert');\n",
              "        buttonEl.style.display =\n",
              "          google.colab.kernel.accessAllowed ? 'block' : 'none';\n",
              "\n",
              "        async function convertToInteractive(key) {\n",
              "          const element = document.querySelector('#df-da3ff65b-0a8b-4fc0-b616-299363205317');\n",
              "          const dataTable =\n",
              "            await google.colab.kernel.invokeFunction('convertToInteractive',\n",
              "                                                     [key], {});\n",
              "          if (!dataTable) return;\n",
              "\n",
              "          const docLinkHtml = 'Like what you see? Visit the ' +\n",
              "            '<a target=\"_blank\" href=https://colab.research.google.com/notebooks/data_table.ipynb>data table notebook</a>'\n",
              "            + ' to learn more about interactive tables.';\n",
              "          element.innerHTML = '';\n",
              "          dataTable['output_type'] = 'display_data';\n",
              "          await google.colab.output.renderOutput(dataTable, element);\n",
              "          const docLink = document.createElement('div');\n",
              "          docLink.innerHTML = docLinkHtml;\n",
              "          element.appendChild(docLink);\n",
              "        }\n",
              "      </script>\n",
              "    </div>\n",
              "  </div>\n",
              "  "
            ]
          },
          "metadata": {},
          "execution_count": 102
        }
      ]
    },
    {
      "cell_type": "code",
      "source": [
        "from datetime import datetime\n",
        "\n",
        "date_time_str = data['Date'][0]\n",
        "date_time_obj = datetime.strptime(date_time_str, '%Y-%m-%d')\n",
        "\n",
        "\n",
        "print (\"The type of the date is now\",  type(date_time_obj))\n",
        "print (\"The date is\", date_time_obj.year)\n",
        "print (\"The date is\", date_time_obj.month)\n",
        "print (\"The date is\", date_time_obj.day)"
      ],
      "metadata": {
        "colab": {
          "base_uri": "https://localhost:8080/"
        },
        "id": "uszeJwnpsD2e",
        "outputId": "a08cfc70-70b1-4445-96c6-1acc7603fc01"
      },
      "execution_count": 103,
      "outputs": [
        {
          "output_type": "stream",
          "name": "stdout",
          "text": [
            "The type of the date is now <class 'datetime.datetime'>\n",
            "The date is 2013\n",
            "The date is 12\n",
            "The date is 20\n"
          ]
        }
      ]
    },
    {
      "cell_type": "code",
      "source": [
        "def get_date_obj(date_str):\n",
        "  return datetime.strptime(date_str, '%Y-%m-%d')"
      ],
      "metadata": {
        "id": "KRKvI7sVspQn"
      },
      "execution_count": 104,
      "outputs": []
    },
    {
      "cell_type": "code",
      "source": [
        "def get_year(r):\n",
        "  return r.year\n",
        "\n",
        "def get_month(r):\n",
        "  return r.month\n",
        "\n",
        "def get_day(r):\n",
        "  return r.day"
      ],
      "metadata": {
        "id": "gsH7_O_ytOqX"
      },
      "execution_count": 105,
      "outputs": []
    },
    {
      "cell_type": "code",
      "source": [
        "data['date_obj'] = data['Date'].apply(get_date_obj)"
      ],
      "metadata": {
        "id": "xzhP4CB7sxgn"
      },
      "execution_count": 106,
      "outputs": []
    },
    {
      "cell_type": "code",
      "source": [
        "data['year'] = data['date_obj'].apply(get_year)\n",
        "data['month'] = data['date_obj'].apply(get_month)\n",
        "data['day'] = data['date_obj'].apply(get_day)"
      ],
      "metadata": {
        "id": "D8Ksa3Pxs9sF"
      },
      "execution_count": 107,
      "outputs": []
    },
    {
      "cell_type": "code",
      "source": [
        "data['year']"
      ],
      "metadata": {
        "colab": {
          "base_uri": "https://localhost:8080/"
        },
        "id": "tyiWrKTdtm2m",
        "outputId": "83866dc6-3fbf-483b-f621-e0588d802f7b"
      },
      "execution_count": 108,
      "outputs": [
        {
          "output_type": "execute_result",
          "data": {
            "text/plain": [
              "0       2013\n",
              "1       2013\n",
              "2       2013\n",
              "3       2013\n",
              "4       2013\n",
              "        ... \n",
              "2008    2021\n",
              "2009    2021\n",
              "2010    2021\n",
              "2011    2021\n",
              "2012    2021\n",
              "Name: year, Length: 2013, dtype: int64"
            ]
          },
          "metadata": {},
          "execution_count": 108
        }
      ]
    },
    {
      "cell_type": "code",
      "source": [
        "import matplotlib.pyplot as plt\n",
        "plt.figure(figsize=(16, 12))\n",
        "\n",
        "linewidth=1.5\n",
        "plt.plot(data['Open'], label='Open', linewidth=linewidth)\n",
        "plt.plot(data['High'], label='High', linewidth=linewidth)\n",
        "plt.plot(data['Low'], label='Low', linewidth=linewidth)\n",
        "plt.plot(data['Close'], label='Close', linewidth=linewidth)\n",
        "\n",
        "plt.legend()\n",
        "plt.show()"
      ],
      "metadata": {
        "colab": {
          "base_uri": "https://localhost:8080/",
          "height": 700
        },
        "id": "JqqJtxzttwUd",
        "outputId": "2cb8a08f-62cb-4e64-8f97-d369d4fc2cbe"
      },
      "execution_count": 109,
      "outputs": [
        {
          "output_type": "display_data",
          "data": {
            "text/plain": [
              "<Figure size 1152x864 with 1 Axes>"
            ],
            "image/png": "[encoded data removed]"
          },
          "metadata": {
            "needs_background": "light"
          }
        }
      ]
    },
    {
      "cell_type": "code",
      "source": [
        "data"
      ],
      "metadata": {
        "colab": {
          "base_uri": "https://localhost:8080/",
          "height": 424
        },
        "id": "KLtyvZJNvJh-",
        "outputId": "3c096ef6-f8df-409f-baf9-b9034411e6e4"
      },
      "execution_count": 110,
      "outputs": [
        {
          "output_type": "execute_result",
          "data": {
            "text/plain": [
              "            Date         Open         High          Low        Close  \\\n",
              "0     2013-12-20   542.117981   548.528992   541.968567   548.255005   \n",
              "1     2013-12-23   551.851501   555.816650   550.496582   555.467957   \n",
              "2     2013-12-24   555.403198   555.537720   551.981018   553.844055   \n",
              "3     2013-12-26   554.924988   557.410706   552.274963   556.643555   \n",
              "4     2013-12-27   557.908813   558.048279   554.392029   557.111816   \n",
              "...          ...          ...          ...          ...          ...   \n",
              "2008  2021-12-13  2968.879883  2971.250000  2927.199951  2934.090088   \n",
              "2009  2021-12-14  2895.399902  2908.840088  2844.850098  2899.409912   \n",
              "2010  2021-12-15  2887.320068  2950.344971  2854.110107  2947.370117   \n",
              "2011  2021-12-16  2961.540039  2971.030029  2881.850098  2896.770020   \n",
              "2012  2021-12-17  2854.290039  2889.201904  2835.760010  2856.060059   \n",
              "\n",
              "        Adj Close   Volume   date_obj  year  month  day  \n",
              "0      548.255005  6547651 2013-12-20  2013     12   20  \n",
              "1      555.467957  3456106 2013-12-23  2013     12   23  \n",
              "2      553.844055  1473904 2013-12-24  2013     12   24  \n",
              "3      556.643555  2685629 2013-12-26  2013     12   26  \n",
              "4      557.111816  3151167 2013-12-27  2013     12   27  \n",
              "...           ...      ...        ...   ...    ...  ...  \n",
              "2008  2934.090088  1205200 2021-12-13  2021     12   13  \n",
              "2009  2899.409912  1238900 2021-12-14  2021     12   14  \n",
              "2010  2947.370117  1364000 2021-12-15  2021     12   15  \n",
              "2011  2896.770020  1370000 2021-12-16  2021     12   16  \n",
              "2012  2856.060059  2162800 2021-12-17  2021     12   17  \n",
              "\n",
              "[2013 rows x 11 columns]"
            ],
            "text/html": [
              "\n",
              "  <div id=\"df-70e0ae64-f998-42f3-88ef-8ccc84c6a467\">\n",
              "    <div class=\"colab-df-container\">\n",
              "      <div>\n",
              "<style scoped>\n",
              "    .dataframe tbody tr th:only-of-type {\n",
              "        vertical-align: middle;\n",
              "    }\n",
              "\n",
              "    .dataframe tbody tr th {\n",
              "        vertical-align: top;\n",
              "    }\n",
              "\n",
              "    .dataframe thead th {\n",
              "        text-align: right;\n",
              "    }\n",
              "</style>\n",
              "<table border=\"1\" class=\"dataframe\">\n",
              "  <thead>\n",
              "    <tr style=\"text-align: right;\">\n",
              "      <th></th>\n",
              "      <th>Date</th>\n",
              "      <th>Open</th>\n",
              "      <th>High</th>\n",
              "      <th>Low</th>\n",
              "      <th>Close</th>\n",
              "      <th>Adj Close</th>\n",
              "      <th>Volume</th>\n",
              "      <th>date_obj</th>\n",
              "      <th>year</th>\n",
              "      <th>month</th>\n",
              "      <th>day</th>\n",
              "    </tr>\n",
              "  </thead>\n",
              "  <tbody>\n",
              "    <tr>\n",
              "      <th>0</th>\n",
              "      <td>2013-12-20</td>\n",
              "      <td>542.117981</td>\n",
              "      <td>548.528992</td>\n",
              "      <td>541.968567</td>\n",
              "      <td>548.255005</td>\n",
              "      <td>548.255005</td>\n",
              "      <td>6547651</td>\n",
              "      <td>2013-12-20</td>\n",
              "      <td>2013</td>\n",
              "      <td>12</td>\n",
              "      <td>20</td>\n",
              "    </tr>\n",
              "    <tr>\n",
              "      <th>1</th>\n",
              "      <td>2013-12-23</td>\n",
              "      <td>551.851501</td>\n",
              "      <td>555.816650</td>\n",
              "      <td>550.496582</td>\n",
              "      <td>555.467957</td>\n",
              "      <td>555.467957</td>\n",
              "      <td>3456106</td>\n",
              "      <td>2013-12-23</td>\n",
              "      <td>2013</td>\n",
              "      <td>12</td>\n",
              "      <td>23</td>\n",
              "    </tr>\n",
              "    <tr>\n",
              "      <th>2</th>\n",
              "      <td>2013-12-24</td>\n",
              "      <td>555.403198</td>\n",
              "      <td>555.537720</td>\n",
              "      <td>551.981018</td>\n",
              "      <td>553.844055</td>\n",
              "      <td>553.844055</td>\n",
              "      <td>1473904</td>\n",
              "      <td>2013-12-24</td>\n",
              "      <td>2013</td>\n",
              "      <td>12</td>\n",
              "      <td>24</td>\n",
              "    </tr>\n",
              "    <tr>\n",
              "      <th>3</th>\n",
              "      <td>2013-12-26</td>\n",
              "      <td>554.924988</td>\n",
              "      <td>557.410706</td>\n",
              "      <td>552.274963</td>\n",
              "      <td>556.643555</td>\n",
              "      <td>556.643555</td>\n",
              "      <td>2685629</td>\n",
              "      <td>2013-12-26</td>\n",
              "      <td>2013</td>\n",
              "      <td>12</td>\n",
              "      <td>26</td>\n",
              "    </tr>\n",
              "    <tr>\n",
              "      <th>4</th>\n",
              "      <td>2013-12-27</td>\n",
              "      <td>557.908813</td>\n",
              "      <td>558.048279</td>\n",
              "      <td>554.392029</td>\n",
              "      <td>557.111816</td>\n",
              "      <td>557.111816</td>\n",
              "      <td>3151167</td>\n",
              "      <td>2013-12-27</td>\n",
              "      <td>2013</td>\n",
              "      <td>12</td>\n",
              "      <td>27</td>\n",
              "    </tr>\n",
              "    <tr>\n",
              "      <th>...</th>\n",
              "      <td>...</td>\n",
              "      <td>...</td>\n",
              "      <td>...</td>\n",
              "      <td>...</td>\n",
              "      <td>...</td>\n",
              "      <td>...</td>\n",
              "      <td>...</td>\n",
              "      <td>...</td>\n",
              "      <td>...</td>\n",
              "      <td>...</td>\n",
              "      <td>...</td>\n",
              "    </tr>\n",
              "    <tr>\n",
              "      <th>2008</th>\n",
              "      <td>2021-12-13</td>\n",
              "      <td>2968.879883</td>\n",
              "      <td>2971.250000</td>\n",
              "      <td>2927.199951</td>\n",
              "      <td>2934.090088</td>\n",
              "      <td>2934.090088</td>\n",
              "      <td>1205200</td>\n",
              "      <td>2021-12-13</td>\n",
              "      <td>2021</td>\n",
              "      <td>12</td>\n",
              "      <td>13</td>\n",
              "    </tr>\n",
              "    <tr>\n",
              "      <th>2009</th>\n",
              "      <td>2021-12-14</td>\n",
              "      <td>2895.399902</td>\n",
              "      <td>2908.840088</td>\n",
              "      <td>2844.850098</td>\n",
              "      <td>2899.409912</td>\n",
              "      <td>2899.409912</td>\n",
              "      <td>1238900</td>\n",
              "      <td>2021-12-14</td>\n",
              "      <td>2021</td>\n",
              "      <td>12</td>\n",
              "      <td>14</td>\n",
              "    </tr>\n",
              "    <tr>\n",
              "      <th>2010</th>\n",
              "      <td>2021-12-15</td>\n",
              "      <td>2887.320068</td>\n",
              "      <td>2950.344971</td>\n",
              "      <td>2854.110107</td>\n",
              "      <td>2947.370117</td>\n",
              "      <td>2947.370117</td>\n",
              "      <td>1364000</td>\n",
              "      <td>2021-12-15</td>\n",
              "      <td>2021</td>\n",
              "      <td>12</td>\n",
              "      <td>15</td>\n",
              "    </tr>\n",
              "    <tr>\n",
              "      <th>2011</th>\n",
              "      <td>2021-12-16</td>\n",
              "      <td>2961.540039</td>\n",
              "      <td>2971.030029</td>\n",
              "      <td>2881.850098</td>\n",
              "      <td>2896.770020</td>\n",
              "      <td>2896.770020</td>\n",
              "      <td>1370000</td>\n",
              "      <td>2021-12-16</td>\n",
              "      <td>2021</td>\n",
              "      <td>12</td>\n",
              "      <td>16</td>\n",
              "    </tr>\n",
              "    <tr>\n",
              "      <th>2012</th>\n",
              "      <td>2021-12-17</td>\n",
              "      <td>2854.290039</td>\n",
              "      <td>2889.201904</td>\n",
              "      <td>2835.760010</td>\n",
              "      <td>2856.060059</td>\n",
              "      <td>2856.060059</td>\n",
              "      <td>2162800</td>\n",
              "      <td>2021-12-17</td>\n",
              "      <td>2021</td>\n",
              "      <td>12</td>\n",
              "      <td>17</td>\n",
              "    </tr>\n",
              "  </tbody>\n",
              "</table>\n",
              "<p>2013 rows × 11 columns</p>\n",
              "</div>\n",
              "      <button class=\"colab-df-convert\" onclick=\"convertToInteractive('df-70e0ae64-f998-42f3-88ef-8ccc84c6a467')\"\n",
              "              title=\"Convert this dataframe to an interactive table.\"\n",
              "              style=\"display:none;\">\n",
              "        \n",
              "  <svg xmlns=\"http://www.w3.org/2000/svg\" height=\"24px\"viewBox=\"0 0 24 24\"\n",
              "       width=\"24px\">\n",
              "    <path d=\"M0 0h24v24H0V0z\" fill=\"none\"/>\n",
              "    <path d=\"M18.56 5.44l.94 2.06.94-2.06 2.06-.94-2.06-.94-.94-2.06-.94 2.06-2.06.94zm-11 1L8.5 8.5l.94-2.06 2.06-.94-2.06-.94L8.5 2.5l-.94 2.06-2.06.94zm10 10l.94 2.06.94-2.06 2.06-.94-2.06-.94-.94-2.06-.94 2.06-2.06.94z\"/><path d=\"M17.41 7.96l-1.37-1.37c-.4-.4-.92-.59-1.43-.59-.52 0-1.04.2-1.43.59L10.3 9.45l-7.72 7.72c-.78.78-.78 2.05 0 2.83L4 21.41c.39.39.9.59 1.41.59.51 0 1.02-.2 1.41-.59l7.78-7.78 2.81-2.81c.8-.78.8-2.07 0-2.86zM5.41 20L4 18.59l7.72-7.72 1.47 1.35L5.41 20z\"/>\n",
              "  </svg>\n",
              "      </button>\n",
              "      \n",
              "  <style>\n",
              "    .colab-df-container {\n",
              "      display:flex;\n",
              "      flex-wrap:wrap;\n",
              "      gap: 12px;\n",
              "    }\n",
              "\n",
              "    .colab-df-convert {\n",
              "      background-color: #E8F0FE;\n",
              "      border: none;\n",
              "      border-radius: 50%;\n",
              "      cursor: pointer;\n",
              "      display: none;\n",
              "      fill: #1967D2;\n",
              "      height: 32px;\n",
              "      padding: 0 0 0 0;\n",
              "      width: 32px;\n",
              "    }\n",
              "\n",
              "    .colab-df-convert:hover {\n",
              "      background-color: #E2EBFA;\n",
              "      box-shadow: 0px 1px 2px rgba(60, 64, 67, 0.3), 0px 1px 3px 1px rgba(60, 64, 67, 0.15);\n",
              "      fill: #174EA6;\n",
              "    }\n",
              "\n",
              "    [theme=dark] .colab-df-convert {\n",
              "      background-color: #3B4455;\n",
              "      fill: #D2E3FC;\n",
              "    }\n",
              "\n",
              "    [theme=dark] .colab-df-convert:hover {\n",
              "      background-color: #434B5C;\n",
              "      box-shadow: 0px 1px 3px 1px rgba(0, 0, 0, 0.15);\n",
              "      filter: drop-shadow(0px 1px 2px rgba(0, 0, 0, 0.3));\n",
              "      fill: #FFFFFF;\n",
              "    }\n",
              "  </style>\n",
              "\n",
              "      <script>\n",
              "        const buttonEl =\n",
              "          document.querySelector('#df-70e0ae64-f998-42f3-88ef-8ccc84c6a467 button.colab-df-convert');\n",
              "        buttonEl.style.display =\n",
              "          google.colab.kernel.accessAllowed ? 'block' : 'none';\n",
              "\n",
              "        async function convertToInteractive(key) {\n",
              "          const element = document.querySelector('#df-70e0ae64-f998-42f3-88ef-8ccc84c6a467');\n",
              "          const dataTable =\n",
              "            await google.colab.kernel.invokeFunction('convertToInteractive',\n",
              "                                                     [key], {});\n",
              "          if (!dataTable) return;\n",
              "\n",
              "          const docLinkHtml = 'Like what you see? Visit the ' +\n",
              "            '<a target=\"_blank\" href=https://colab.research.google.com/notebooks/data_table.ipynb>data table notebook</a>'\n",
              "            + ' to learn more about interactive tables.';\n",
              "          element.innerHTML = '';\n",
              "          dataTable['output_type'] = 'display_data';\n",
              "          await google.colab.output.renderOutput(dataTable, element);\n",
              "          const docLink = document.createElement('div');\n",
              "          docLink.innerHTML = docLinkHtml;\n",
              "          element.appendChild(docLink);\n",
              "        }\n",
              "      </script>\n",
              "    </div>\n",
              "  </div>\n",
              "  "
            ]
          },
          "metadata": {},
          "execution_count": 110
        }
      ]
    },
    {
      "cell_type": "code",
      "source": [
        "del data['date_obj']\n",
        "del data['Date']"
      ],
      "metadata": {
        "id": "zJvp0skwvhyk"
      },
      "execution_count": 111,
      "outputs": []
    },
    {
      "cell_type": "code",
      "source": [
        "for c in data.columns:\n",
        "    mean = data[c].mean()\n",
        "    stdev = data[c].std()\n",
        "\n",
        "    data[c] = (data[c] - mean) / stdev"
      ],
      "metadata": {
        "id": "wUcU0ZD4whG0"
      },
      "execution_count": 112,
      "outputs": []
    },
    {
      "cell_type": "code",
      "source": [
        "target_sensor = \"Close\"\n",
        "features = list(data.columns.difference([target_sensor]))\n",
        "features"
      ],
      "metadata": {
        "colab": {
          "base_uri": "https://localhost:8080/"
        },
        "id": "wS0O0OkYvcrO",
        "outputId": "97c8bdbc-aecb-48cb-b155-4768a447baf8"
      },
      "execution_count": 113,
      "outputs": [
        {
          "output_type": "execute_result",
          "data": {
            "text/plain": [
              "['Adj Close', 'High', 'Low', 'Open', 'Volume', 'day', 'month', 'year']"
            ]
          },
          "metadata": {},
          "execution_count": 113
        }
      ]
    },
    {
      "cell_type": "code",
      "source": [
        "X = data[features]\n",
        "y = data['Close']"
      ],
      "metadata": {
        "id": "pR-LFe-wwI40"
      },
      "execution_count": 114,
      "outputs": []
    },
    {
      "cell_type": "code",
      "source": [
        "test_size = 30\n",
        "train_size = 2013 - test_size \n",
        "\n",
        "X_train = X[:train_size]\n",
        "y_train = y[:train_size]\n",
        "\n",
        "X_test = X[train_size:]\n",
        "y_test = y[train_size:]"
      ],
      "metadata": {
        "id": "540yz5o7fthf"
      },
      "execution_count": 116,
      "outputs": []
    },
    {
      "cell_type": "code",
      "source": [
        "import torch\n",
        "from torch.utils.data import Dataset\n",
        "\n",
        "class CandleDataset(Dataset):\n",
        "    def __init__(self, X, y, sequence_length=5):\n",
        "        self.sequence_length = sequence_length\n",
        "        self.y = torch.tensor(y.values).float()\n",
        "        self.X = torch.tensor(X.values).float()\n",
        "\n",
        "    def __len__(self):\n",
        "        return self.X.shape[0]\n",
        "\n",
        "    def __getitem__(self, i): \n",
        "        if i >= self.sequence_length - 1:\n",
        "            i_start = i - self.sequence_length + 1\n",
        "            x = self.X[i_start:(i + 1), :]\n",
        "        else:\n",
        "            padding = self.X[0].repeat(self.sequence_length - i - 1, 1)\n",
        "            x = self.X[0:(i + 1), :]\n",
        "            x = torch.cat((padding, x), 0)\n",
        "        # x = self.X[i, :]\n",
        "\n",
        "        return x, self.y[i]"
      ],
      "metadata": {
        "id": "GTPHNnCew430"
      },
      "execution_count": 119,
      "outputs": []
    },
    {
      "cell_type": "code",
      "source": [
        "from torch.utils.data import DataLoader\n",
        "\n",
        "batch_size = 1\n",
        "\n",
        "train_dataset = CandleDataset(\n",
        "    X_train,\n",
        "    y_train,\n",
        ")\n",
        "test_dataset = CandleDataset(\n",
        "    X_test,\n",
        "    y_test,\n",
        ")\n",
        "\n",
        "\n",
        "train_loader = DataLoader(train_dataset, batch_size=batch_size, shuffle=True)\n",
        "test_loader = DataLoader(test_dataset, batch_size=batch_size, shuffle=False)"
      ],
      "metadata": {
        "id": "0zDcb6lfy7PL"
      },
      "execution_count": 120,
      "outputs": []
    },
    {
      "cell_type": "code",
      "source": [
        "from torch import nn\n",
        "\n",
        "class RegressionLSTM(nn.Module):\n",
        "    def __init__(self, num_sensors, hidden_units):\n",
        "        super().__init__()\n",
        "        self.num_sensors = num_sensors\n",
        "        self.hidden_units = hidden_units\n",
        "        self.num_layers = 1\n",
        "\n",
        "        self.lstm = nn.LSTM(\n",
        "            input_size=num_sensors,\n",
        "            hidden_size=hidden_units,\n",
        "            batch_first=True,\n",
        "            num_layers=self.num_layers\n",
        "        )\n",
        "\n",
        "        self.linear = nn.Linear(in_features=self.hidden_units, out_features=1)\n",
        "\n",
        "    def forward(self, x):\n",
        "        batch_size = x.shape[0]\n",
        "        h0 = torch.zeros(self.num_layers, batch_size, self.hidden_units).requires_grad_()\n",
        "        c0 = torch.zeros(self.num_layers, batch_size, self.hidden_units).requires_grad_()\n",
        "        _, (hn, _) = self.lstm(x, (h0, c0))\n",
        "        out = self.linear(hn[0]).flatten()\n",
        "        return out"
      ],
      "metadata": {
        "id": "VY0wG8XWucab"
      },
      "execution_count": 123,
      "outputs": []
    },
    {
      "cell_type": "code",
      "source": [
        "learning_rate = 5e-5\n",
        "num_hidden_units = 128\n",
        "\n",
        "model = RegressionLSTM(num_sensors=len(features), hidden_units=num_hidden_units)\n",
        "loss_function = nn.MSELoss()\n",
        "optimizer = torch.optim.Adam(model.parameters(), lr=learning_rate)"
      ],
      "metadata": {
        "id": "BaEbC0ll13Ks"
      },
      "execution_count": 124,
      "outputs": []
    },
    {
      "cell_type": "code",
      "source": [
        "def train_model(data_loader, model, loss_function, optimizer):\n",
        "    num_batches = len(data_loader)\n",
        "    total_loss = 0\n",
        "    model.train()\n",
        "\n",
        "    for X, y in data_loader:\n",
        "        # print(X)\n",
        "        output = model(X)\n",
        "        loss = loss_function(output, y)\n",
        "\n",
        "        optimizer.zero_grad()\n",
        "        loss.backward()\n",
        "        optimizer.step()\n",
        "\n",
        "        total_loss += loss.item()\n",
        "\n",
        "    avg_loss = total_loss / num_batches\n",
        "    print(f\"Train loss: {avg_loss}\")\n",
        "    \n",
        "    return avg_loss\n",
        "\n",
        "def test_model(data_loader, model, loss_function):\n",
        "\n",
        "    num_batches = len(data_loader)\n",
        "    total_loss = 0\n",
        "\n",
        "    model.eval()\n",
        "    with torch.no_grad():\n",
        "        for X, y in data_loader:\n",
        "            output = model(X)\n",
        "            total_loss += loss_function(output, y).item()\n",
        "\n",
        "    avg_loss = total_loss / num_batches\n",
        "    print(f\"Test loss: {avg_loss}\")\n",
        "\n",
        "    return avg_loss"
      ],
      "metadata": {
        "id": "i9JGSQXr18Fb"
      },
      "execution_count": 125,
      "outputs": []
    },
    {
      "cell_type": "code",
      "source": [
        "print(\"Untrained test\\n--------\")\n",
        "test_model(test_loader, model, loss_function)\n",
        "print()\n",
        "\n",
        "train_losses = []\n",
        "test_losses = []\n",
        "for ix_epoch in range(25):\n",
        "    print(f\"Epoch {ix_epoch}\\n---------\")\n",
        "    train_losses.append(train_model(train_loader, model, loss_function, optimizer=optimizer))\n",
        "    test_losses.append(test_model(test_loader, model, loss_function))\n",
        "    print()"
      ],
      "metadata": {
        "id": "GPiD6wOS-C9p",
        "colab": {
          "base_uri": "https://localhost:8080/"
        },
        "outputId": "709cb355-fcaf-49a3-9adc-3aef446f7f89"
      },
      "execution_count": 126,
      "outputs": [
        {
          "output_type": "stream",
          "name": "stdout",
          "text": [
            "Untrained test\n",
            "--------\n",
            "Test loss: 9.27696491877238\n",
            "\n",
            "Epoch 0\n",
            "---------\n",
            "Train loss: 0.1587925905925157\n",
            "Test loss: 0.08609392127643029\n",
            "\n",
            "Epoch 1\n",
            "---------\n",
            "Train loss: 0.004953980811765976\n",
            "Test loss: 0.007268426153101851\n",
            "\n",
            "Epoch 2\n",
            "---------\n",
            "Train loss: 0.002887704730091841\n",
            "Test loss: 0.004584964112914728\n",
            "\n",
            "Epoch 3\n",
            "---------\n",
            "Train loss: 0.0022416800261945754\n",
            "Test loss: 0.008098071144847079\n",
            "\n",
            "Epoch 4\n",
            "---------\n",
            "Train loss: 0.0019515470724229048\n",
            "Test loss: 0.003533142848755233\n",
            "\n",
            "Epoch 5\n",
            "---------\n",
            "Train loss: 0.0017440161776166368\n",
            "Test loss: 0.004123735849861987\n",
            "\n",
            "Epoch 6\n",
            "---------\n",
            "Train loss: 0.0015503501980510003\n",
            "Test loss: 0.004783594752749801\n",
            "\n",
            "Epoch 7\n",
            "---------\n",
            "Train loss: 0.0014065918428119162\n",
            "Test loss: 0.004055973419114404\n",
            "\n",
            "Epoch 8\n",
            "---------\n",
            "Train loss: 0.001288771073670683\n",
            "Test loss: 0.009686791503433293\n",
            "\n",
            "Epoch 9\n",
            "---------\n",
            "Train loss: 0.0012808242866928468\n",
            "Test loss: 0.008439349512210962\n",
            "\n",
            "Epoch 10\n",
            "---------\n",
            "Train loss: 0.001174050618667943\n",
            "Test loss: 0.004016036719319042\n",
            "\n",
            "Epoch 11\n",
            "---------\n",
            "Train loss: 0.0011317232085689907\n",
            "Test loss: 0.004105912250385775\n",
            "\n",
            "Epoch 12\n",
            "---------\n",
            "Train loss: 0.0010890306074917617\n",
            "Test loss: 0.006890633267660936\n",
            "\n",
            "Epoch 13\n",
            "---------\n",
            "Train loss: 0.001083221869260629\n",
            "Test loss: 0.01238994742258607\n",
            "\n",
            "Epoch 14\n",
            "---------\n",
            "Train loss: 0.000948316981904635\n",
            "Test loss: 0.0032339670789345593\n",
            "\n",
            "Epoch 15\n",
            "---------\n",
            "Train loss: 0.0009230845535071466\n",
            "Test loss: 0.002988815851495019\n",
            "\n",
            "Epoch 16\n",
            "---------\n",
            "Train loss: 0.0009038485587472745\n",
            "Test loss: 0.004305557858197062\n",
            "\n",
            "Epoch 17\n",
            "---------\n",
            "Train loss: 0.000845889560368015\n",
            "Test loss: 0.0022664304147231936\n",
            "\n",
            "Epoch 18\n",
            "---------\n",
            "Train loss: 0.0007484856301914694\n",
            "Test loss: 0.011043608150915436\n",
            "\n",
            "Epoch 19\n",
            "---------\n",
            "Train loss: 0.0007572223842861677\n",
            "Test loss: 0.0065589348020391\n",
            "\n",
            "Epoch 20\n",
            "---------\n",
            "Train loss: 0.0007105999089490209\n",
            "Test loss: 0.0021789885777574606\n",
            "\n",
            "Epoch 21\n",
            "---------\n",
            "Train loss: 0.0006907983930730851\n",
            "Test loss: 0.0035860039801264066\n",
            "\n",
            "Epoch 22\n",
            "---------\n",
            "Train loss: 0.0006370519132536776\n",
            "Test loss: 0.00233361523433094\n",
            "\n",
            "Epoch 23\n",
            "---------\n",
            "Train loss: 0.0006338541445277586\n",
            "Test loss: 0.0022002283587501856\n",
            "\n",
            "Epoch 24\n",
            "---------\n",
            "Train loss: 0.0005569486374298365\n",
            "Test loss: 0.0019561242220637117\n",
            "\n"
          ]
        }
      ]
    },
    {
      "cell_type": "code",
      "source": [
        "import matplotlib.pyplot as plt\n",
        "\n",
        "linewidth=1.5\n",
        "plt.plot(train_losses, label='train_losses', linewidth=linewidth)\n",
        "plt.plot(test_losses, label='test_losses', linewidth=linewidth)\n",
        "\n",
        "plt.legend()\n",
        "plt.show()"
      ],
      "metadata": {
        "colab": {
          "base_uri": "https://localhost:8080/",
          "height": 265
        },
        "id": "wUJOiavgztmI",
        "outputId": "92ba6c31-3e45-489a-8e58-f99a39c852cd"
      },
      "execution_count": 133,
      "outputs": [
        {
          "output_type": "display_data",
          "data": {
            "text/plain": [
              "<Figure size 432x288 with 1 Axes>"
            ],
            "image/png": "[encoded data removed]"
          },
          "metadata": {
            "needs_background": "light"
          }
        }
      ]
    },
    {
      "cell_type": "code",
      "source": [
        "def predict(data_loader, model):\n",
        "\n",
        "    output = torch.tensor([])\n",
        "    model.eval()\n",
        "    with torch.no_grad():\n",
        "        for X, _ in data_loader:\n",
        "            y_star = model(X)\n",
        "            output = torch.cat((output, y_star), 0)\n",
        "\n",
        "    return output"
      ],
      "metadata": {
        "id": "pdnwhDJq-4Gn"
      },
      "execution_count": 127,
      "outputs": []
    },
    {
      "cell_type": "code",
      "source": [
        "test_pred = predict(test_loader, model).numpy()"
      ],
      "metadata": {
        "id": "zBKUSGOGBVb2"
      },
      "execution_count": 128,
      "outputs": []
    },
    {
      "cell_type": "code",
      "source": [
        "test_pred"
      ],
      "metadata": {
        "id": "Hg8jCMD1BXI3",
        "colab": {
          "base_uri": "https://localhost:8080/"
        },
        "outputId": "919e0ab9-f24f-4b56-ba46-e8722889e364"
      },
      "execution_count": 129,
      "outputs": [
        {
          "output_type": "execute_result",
          "data": {
            "text/plain": [
              "array([3.0375254, 3.047327 , 3.041586 , 3.0031176, 2.9901242, 3.0041986,\n",
              "       3.0307045, 3.0362103, 3.0386171, 3.0528626, 3.0706503, 3.0436172,\n",
              "       2.9974742, 2.9680629, 2.9114406, 2.9088042, 2.8778896, 2.8617673,\n",
              "       2.8637536, 2.865875 , 2.8625174, 2.9149399, 2.9712753, 2.999043 ,\n",
              "       3.0154576, 3.0027432, 2.9439816, 2.9337816, 2.9403791, 2.8847158],\n",
              "      dtype=float32)"
            ]
          },
          "metadata": {},
          "execution_count": 129
        }
      ]
    },
    {
      "cell_type": "code",
      "source": [
        "preds =  list(predict(test_loader, model).numpy())"
      ],
      "metadata": {
        "id": "kcmunosNEK_O"
      },
      "execution_count": 130,
      "outputs": []
    },
    {
      "cell_type": "code",
      "source": [
        "ys =  list(y_test.values)"
      ],
      "metadata": {
        "id": "RxEzMDMmFAsu"
      },
      "execution_count": 131,
      "outputs": []
    },
    {
      "cell_type": "code",
      "source": [
        "import matplotlib.pyplot as plt\n",
        "\n",
        "linewidth=1.5\n",
        "plt.plot(preds, label='predicted values', linewidth=linewidth)\n",
        "plt.plot(ys, label='True values', linewidth=linewidth)\n",
        "\n",
        "plt.legend()\n",
        "plt.show()"
      ],
      "metadata": {
        "id": "iDovkhSwDkx-",
        "colab": {
          "base_uri": "https://localhost:8080/",
          "height": 265
        },
        "outputId": "4a756ab5-1348-4ead-89d8-c68e15d84eb0"
      },
      "execution_count": 132,
      "outputs": [
        {
          "output_type": "display_data",
          "data": {
            "text/plain": [
              "<Figure size 432x288 with 1 Axes>"
            ],
            "image/png": "[encoded data removed]"
          },
          "metadata": {
            "needs_background": "light"
          }
        }
      ]
    }
  ]
}